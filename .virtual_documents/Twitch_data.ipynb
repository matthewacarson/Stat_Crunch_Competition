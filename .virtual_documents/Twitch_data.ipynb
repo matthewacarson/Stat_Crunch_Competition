import pandas as pd
import numpy as np
import matplotlib.pyplot as plt
import seaborn as sns
import os
import sys


os.getcwd()


sys.version


sys.executable


df = pd.read_csv("Twitch_Streamer_Data_2023.csv")


df.head(10)


def inverse(x):
    return 10**8.5/x


df1 = df.iloc[:,4:10]
df2 = df.iloc[:,-10:-8]


df1


final = df1.join(df2)


final


pd.plotting.scatter_matrix(final, figsize = (40,40))
plt.savefig('StatCrunch_Results/scatter_matrix_plot.png')
plt.show()


sns.jointplot(data=final, x='Mean weekly stream hours', y='Average viewers')

# plt.plot(xs, ys, color = 'orange')


final['Inverse avg viewers'] = 1/final['Average viewers']
final['fs'] = pd.cut(final['Followers'],5, labels = [1, 2, 3, 4, 5])
final['fs'].value_counts()


# pd.cut(final['Followers'], bins = 5, labels = [1, 2, 3, 4, 5])
# final['fs'].value_counts()
# final['Followers'].describe()
pd.cut(final['Followers'], 5).tail(300)





sns.jointplot(data=final[final['fs'] == 1], x='Mean weekly stream hours', y='Inverse avg viewers', hue = 'fs')
# plt.plot(xs, ys, color = 'orange')


from scipy import stats
df1 = df1[(np.abs(stats.zscore(df1)) < 2.5).all(axis=1)]


from sklearn.preprocessing import PowerTransformer
pt = PowerTransformer()
transformed = pt.fit_transform(eng[['Followers', 'Average viewers']])
df1 = pd.DataFrame(transformed)
df1 = df1.rename(columns={0: 'Followers', 1: 'Average_viewers'})





sns.jointplot(data=df1, x = 'Followers', y ='Average_viewers', kind="reg")


import statsmodels.formula.api as smf
import statsmodels.api as sm


fit = smf.ols("Average_viewers ~ Followers", data=df1).fit()
print(fit.summary())


sns.residplot(data=df1, x="Followers", y="Average_viewers")


sm.qqplot(df1['Followers'], line ='45') 


fig = plt.figure(figsize=(14, 10)) 
fig = sm.graphics.plot_regress_exog(fit, 
                                    'Followers', 
                                    fig=fig) 
